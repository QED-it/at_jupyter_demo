{
 "cells": [
  {
   "cell_type": "code",
   "execution_count": null,
   "id": "98ccf4c7-5988-4520-b503-c56e7b84ebfe",
   "metadata": {},
   "outputs": [],
   "source": [
    "import sys\n",
    "!{sys.executable} -m pip install git+https://github.com/QED-it/pyqedit.git"
   ]
  },
  {
   "cell_type": "code",
   "execution_count": null,
   "id": "827e0873-6167-4e19-80a2-cae279d64b3c",
   "metadata": {},
   "outputs": [],
   "source": [
    "import pyqedit"
   ]
  },
  {
   "cell_type": "code",
   "execution_count": null,
   "id": "d4a518e9-aead-4ff7-918b-ce60deb0670d",
   "metadata": {},
   "outputs": [],
   "source": [
    "from __future__ import print_function\n",
    "import time\n",
    "import pyqedit\n",
    "from pyqedit.rest import ApiException\n",
    "from pprint import pprint"
   ]
  },
  {
   "cell_type": "code",
   "execution_count": null,
   "id": "a0741ce2-0246-44d2-8696-589f4f9d1fc6",
   "metadata": {},
   "outputs": [],
   "source": [
    "# Configure API key authorization: ApiKeyAuth\n",
    "configuration = pyqedit.Configuration()\n",
    "configuration.api_key['x-auth-token'] = 'J#5424#SCLt'\n",
    "\n",
    "configuration.host = 'http://assioma-1.qed-in.com:12052/'"
   ]
  },
  {
   "cell_type": "code",
   "execution_count": null,
   "id": "171ea029-a5a7-49a9-a050-b5b1c7ff3122",
   "metadata": {},
   "outputs": [],
   "source": [
    "api_instance = pyqedit.AnalyticsApi(pyqedit.ApiClient(configuration))\n",
    "\n"
   ]
  },
  {
   "cell_type": "code",
   "execution_count": null,
   "id": "01579aac-87f8-48fa-9786-4ce830a6491f",
   "metadata": {},
   "outputs": [],
   "source": [
    "get_network_activity_request = pyqedit.GetNetworkActivityRequest(0,10)"
   ]
  },
  {
   "cell_type": "code",
   "execution_count": null,
   "id": "b0d1d3da-36c8-4765-89a5-079aeddb9fb4",
   "metadata": {},
   "outputs": [],
   "source": [
    "try:\n",
    "    # Get details on past blocks either by order using start_index and number_of_results or by the tx_hashes of the transactions\n",
    "    api_response = api_instance.analytics_get_network_activity_post(get_network_activity_request)\n",
    "    pprint(api_response)\n",
    "except ApiException as e:\n",
    "    print(\"Exception when calling AnalyticsApi->analytics_get_network_activity_post: %s\\n\" % e)\n"
   ]
  },
  {
   "cell_type": "code",
   "execution_count": null,
   "id": "789ef98a-7389-4b12-be50-d1085a8a8edc",
   "metadata": {},
   "outputs": [],
   "source": []
  }
 ],
 "metadata": {
  "kernelspec": {
   "display_name": "Python 3",
   "language": "python",
   "name": "python3"
  },
  "language_info": {
   "codemirror_mode": {
    "name": "ipython",
    "version": 3
   },
   "file_extension": ".py",
   "mimetype": "text/x-python",
   "name": "python",
   "nbconvert_exporter": "python",
   "pygments_lexer": "ipython3",
   "version": "3.8.5"
  }
 },
 "nbformat": 4,
 "nbformat_minor": 5
}
