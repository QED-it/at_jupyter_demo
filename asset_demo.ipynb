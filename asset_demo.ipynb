{
 "cells": [
  {
   "cell_type": "code",
   "execution_count": 3,
   "id": "98ccf4c7-5988-4520-b503-c56e7b84ebfe",
   "metadata": {},
   "outputs": [
    {
     "name": "stdout",
     "output_type": "stream",
     "text": [
      "Collecting git+https://github.com/QED-it/pyqedit.git\n",
      "  Cloning https://github.com/QED-it/pyqedit.git to /tmp/pip-req-build-dectdnql\n",
      "  Running command git clone -q https://github.com/QED-it/pyqedit.git /tmp/pip-req-build-dectdnql\n",
      "Requirement already satisfied: certifi in /usr/lib/python3/dist-packages (from pyqedit==1.0.0) (2019.11.28)\n",
      "Requirement already satisfied: python-dateutil in /usr/lib/python3/dist-packages (from pyqedit==1.0.0) (2.7.3)\n",
      "Requirement already satisfied: six>=1.10 in /usr/lib/python3/dist-packages (from pyqedit==1.0.0) (1.14.0)\n",
      "Requirement already satisfied: urllib3>=1.15 in /usr/lib/python3/dist-packages (from pyqedit==1.0.0) (1.25.8)\n",
      "Building wheels for collected packages: pyqedit\n",
      "  Building wheel for pyqedit (setup.py) ... \u001b[?25ldone\n",
      "\u001b[?25h  Created wheel for pyqedit: filename=pyqedit-1.0.0-py3-none-any.whl size=229070 sha256=6627627cdb33f26fe9753222d4c5caa79c3a00de7a5f07af7c5130aec7444f76\n",
      "  Stored in directory: /tmp/pip-ephem-wheel-cache-7_q4hcsv/wheels/13/c8/e0/9536a825d20ae61849e53c31df8955e3ed62278af852dc0beb\n",
      "Successfully built pyqedit\n",
      "Installing collected packages: pyqedit\n",
      "Successfully installed pyqedit-1.0.0\n"
     ]
    }
   ],
   "source": [
    "import sys\n",
    "!{sys.executable} -m pip install git+https://github.com/QED-it/pyqedit.git"
   ]
  },
  {
   "cell_type": "code",
   "execution_count": 2,
   "id": "827e0873-6167-4e19-80a2-cae279d64b3c",
   "metadata": {},
   "outputs": [],
   "source": [
    "import pyqedit"
   ]
  },
  {
   "cell_type": "code",
   "execution_count": 3,
   "id": "d4a518e9-aead-4ff7-918b-ce60deb0670d",
   "metadata": {},
   "outputs": [],
   "source": [
    "from __future__ import print_function\n",
    "import time\n",
    "import pyqedit\n",
    "from pyqedit.rest import ApiException\n",
    "from pprint import pprint"
   ]
  },
  {
   "cell_type": "code",
   "execution_count": 4,
   "id": "a0741ce2-0246-44d2-8696-589f4f9d1fc6",
   "metadata": {},
   "outputs": [],
   "source": [
    "# Configure API key authorization: ApiKeyAuth\n",
    "configuration = pyqedit.Configuration()\n",
    "configuration.api_key['x-auth-token'] = 'J#5424#SCLt'\n",
    "\n",
    "configuration.host = 'http://assioma-1.qed-in.com:12052/'"
   ]
  },
  {
   "cell_type": "code",
   "execution_count": 6,
   "id": "171ea029-a5a7-49a9-a050-b5b1c7ff3122",
   "metadata": {},
   "outputs": [],
   "source": [
    "api_instance = pyqedit.AnalyticsApi(pyqedit.ApiClient(configuration))\n",
    "\n"
   ]
  },
  {
   "cell_type": "code",
   "execution_count": null,
   "id": "1c29f12d-2caa-40bf-9a7a-cad556c124de",
   "metadata": {},
   "outputs": [],
   "source": [
    "get_network_activity_request = pyqedit.GetNetworkActivityRequest()"
   ]
  },
  {
   "cell_type": "code",
   "execution_count": 9,
   "id": "01579aac-87f8-48fa-9786-4ce830a6491f",
   "metadata": {},
   "outputs": [],
   "source": [
    "get_network_activity_request = pyqedit.GetNetworkActivityRequest(0,10)"
   ]
  },
  {
   "cell_type": "code",
   "execution_count": null,
   "id": "b0d1d3da-36c8-4765-89a5-079aeddb9fb4",
   "metadata": {},
   "outputs": [],
   "source": [
    "try:\n",
    "    # Get details on past blocks either by order using start_index and number_of_results or by the tx_hashes of the transactions\n",
    "    api_response = api_instance.analytics_get_network_activity_post(get_network_activity_request)\n",
    "    pprint(api_response)\n",
    "except ApiException as e:\n",
    "    print(\"Exception when calling AnalyticsApi->analytics_get_network_activity_post: %s\\n\" % e)\n"
   ]
  },
  {
   "cell_type": "code",
   "execution_count": null,
   "id": "789ef98a-7389-4b12-be50-d1085a8a8edc",
   "metadata": {},
   "outputs": [],
   "source": []
  }
 ],
 "metadata": {
  "kernelspec": {
   "display_name": "Python 3",
   "language": "python",
   "name": "python3"
  },
  "language_info": {
   "codemirror_mode": {
    "name": "ipython",
    "version": 3
   },
   "file_extension": ".py",
   "mimetype": "text/x-python",
   "name": "python",
   "nbconvert_exporter": "python",
   "pygments_lexer": "ipython3",
   "version": "3.8.5"
  }
 },
 "nbformat": 4,
 "nbformat_minor": 5
}
